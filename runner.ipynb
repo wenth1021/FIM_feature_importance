{
 "cells": [
  {
   "cell_type": "code",
   "execution_count": 1,
   "metadata": {},
   "outputs": [],
   "source": [
    "from runner import *"
   ]
  },
  {
   "cell_type": "code",
   "execution_count": 3,
   "metadata": {},
   "outputs": [],
   "source": [
    "if __name__ == '__main__':\n",
    "    # path = './outputs/results.txt'\n",
    "    # sys.stdout = open(path, 'w')\n",
    "\n",
    "    # load image\n",
    "    image = PIL.Image.open(\"./data/dog.jpg\")\n",
    "    input_image = preprocess(image)\n",
    "    input_batch = input_image.unsqueeze(0)\n",
    "    label_name = \"Samoyed\"\n",
    "\n",
    "    # print original predictions\n",
    "    topk_pred_orig = get_topk_pred(input_image, MODEL, CATEGORIES)\n",
    "    print(\"Original prediction\")\n",
    "    prettyprint_tuple(topk_pred_orig)\n",
    "\n",
    "    # integrated gradient\n",
    "    step = 50\n",
    "    zero_out_threshold = 0.1\n",
    "    explanation_ig = get_explanation_ig(MODEL, input_batch, CATEGORIES, label_name)\n",
    "    topk_pred_ig = evaluate_pixel_based_methods(explanation=explanation_ig, input_image=input_image, image=image,\n",
    "                                                image_name=\"samoyed_ig\", model=MODEL, categories=CATEGORIES,\n",
    "                                                threshold=zero_out_threshold)\n",
    "    print(\"\\nIntegrated Gradient prediction\")\n",
    "    prettyprint_tuple(topk_pred_ig)\n",
    "\n",
    "    # local data matrix\n",
    "    explanation_ldm = get_explanation_ldm(MODEL, input_batch)\n",
    "    topk_pred_ldm = evaluate_pixel_based_methods(explanation=explanation_ldm, input_image=input_image, image=image,\n",
    "                                                 image_name=\"samoyed_ldm\", model=MODEL, categories=CATEGORIES,\n",
    "                                                 threshold=zero_out_threshold)\n",
    "    print(\"\\nLocal Data Matrix prediction\")\n",
    "    prettyprint_tuple(topk_pred_ldm)\n",
    "\n",
    "    # lime\n",
    "    features_to_plot = (10, 30, 80)\n",
    "    lime_explanation = get_lime_explainer(image, top_label=0, num_features=5)\n",
    "    topk_pred_lime = evaluate_lime(lime_explanation, input_image=input_image,\n",
    "                                   image_name=\"samoyed_lime_5\", model=MODEL, categories=CATEGORIES,\n",
    "                                   num_features_tuple_plot=features_to_plot)\n",
    "    print(\"\\nLIME prediction 5 features\")\n",
    "    prettyprint_tuple(topk_pred_lime)\n",
    "\n",
    "    lime_explanation = get_lime_explainer(image, top_label=0, num_features=20)\n",
    "    topk_pred_lime = evaluate_lime(lime_explanation, input_image=input_image,\n",
    "                                   image_name=\"samoyed_lime_20\", model=MODEL, categories=CATEGORIES,\n",
    "                                   num_features_tuple_plot=features_to_plot)\n",
    "    print(\"\\nLIME prediction 20 features\")\n",
    "    prettyprint_tuple(topk_pred_lime)\n",
    "\n",
    "    # sys.stdout = sys.__stdout__"
   ]
  }
 ],
 "metadata": {
  "kernelspec": {
   "display_name": "Python 3 (ipykernel)",
   "language": "python",
   "name": "python3"
  },
  "language_info": {
   "codemirror_mode": {
    "name": "ipython",
    "version": 3
   },
   "file_extension": ".py",
   "mimetype": "text/x-python",
   "name": "python",
   "nbconvert_exporter": "python",
   "pygments_lexer": "ipython3",
   "version": "3.8.12"
  }
 },
 "nbformat": 4,
 "nbformat_minor": 4
}
