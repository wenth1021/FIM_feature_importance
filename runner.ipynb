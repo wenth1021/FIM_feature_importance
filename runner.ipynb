{
 "cells": [
  {
   "cell_type": "code",
   "execution_count": 1,
   "metadata": {},
   "outputs": [],
   "source": [
    "from runner import *"
   ]
  },
  {
   "cell_type": "code",
   "execution_count": null,
   "metadata": {},
   "outputs": [],
   "source": [
    "if __name__ == '__main__':\n",
    "    # files = [\"./data/dog.jpg\", \"./data/fireboat.jpeg\"]\n",
    "\n",
    "    # load image\n",
    "    image = PIL.Image.open(\"./data/dog.jpg\")\n",
    "    input_image = preprocess(image)\n",
    "    input_batch = input_image.unsqueeze(0)\n",
    "    label_name = \"Samoyed\"\n",
    "\n",
    "    # load categories and label\n",
    "    with open(\"./data/imagenet_classes.txt\", \"r\") as f:\n",
    "        categories = [s.strip() for s in f.readlines()]\n",
    "\n",
    "    # load model\n",
    "    model = torchvision.models.resnet18(pretrained=True)\n",
    "    model.eval()\n",
    "\n",
    "    # integrated gradient\n",
    "    step = 50\n",
    "    zero_out_threshold = 0.1\n",
    "    explanation_ig = get_explanation_ig(model, input_batch, categories, label_name)\n",
    "    topk_pred_ig = evaluate_pixel_based_methods(explanation=explanation_ig, input_image=input_image, image=image,\n",
    "                                                model=model, categories=categories, threshold=zero_out_threshold)\n",
    "\n",
    "    # local data matrix\n",
    "    explanation_ldm = get_explanation_ldm(model, input_batch)\n",
    "    topk_pred_ldm = evaluate_pixel_based_methods(explanation=explanation_ldm, input_image=input_image, image=image,\n",
    "                                                 model=model, categories=categories, threshold=zero_out_threshold)\n",
    "\n",
    "    # lime\n",
    "    num_features = (10, 30, 80)\n",
    "    lime_explanation = get_lime_explainer(image, top_label=0, num_features=num_features)\n",
    "    topk_pred_lime = evaluate_lime(lime_explanation, input_image, model, categories)"
   ]
  }
 ],
 "metadata": {
  "kernelspec": {
   "display_name": "Python 3 (ipykernel)",
   "language": "python",
   "name": "python3"
  },
  "language_info": {
   "codemirror_mode": {
    "name": "ipython",
    "version": 3
   },
   "file_extension": ".py",
   "mimetype": "text/x-python",
   "name": "python",
   "nbconvert_exporter": "python",
   "pygments_lexer": "ipython3",
   "version": "3.8.12"
  }
 },
 "nbformat": 4,
 "nbformat_minor": 4
}
